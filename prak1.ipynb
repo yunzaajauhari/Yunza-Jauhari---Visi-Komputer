{
 "cells": [
  {
   "attachments": {
    "image.png": {
     "image/png": "[encoded data removed]"
    }
   },
   "cell_type": "markdown",
   "id": "6a148707",
   "metadata": {},
   "source": [
    "# Praktikum Visi Komputer\n",
    "### Modul ke-1\n",
    "\n",
    "Python telah menjadi bahasa pemrograman yang luas penggunaannya, baik itu sebagai bahasa scripting, web development, software dan penggunaannya dalam bidang yang terkait dengan sains data dan kecerdasan artifisial. Python memiliki sintaks yang lebih sederhana dan menyerupai bahasa Inggris. Python berjalan dengan sistem interpreter sehingga setelah kode program dibuat, maka dapat langsung dieksekusi.\n",
    "\n",
    "Sintaks Python jika dibandingkan dengan bahasa lain: \n",
    "- mudah dipahami sebab mirip dengan bahasa Inggris dan matematika.\n",
    "- menggunakan baris baru (new line) untuk mengakhiri perintah/pernyataan, jika dibandingkan dengan bahasa lain yang seringnya menggunakan semicolon (titik koma) atau parantheses (kurungan). \n",
    "- bergantung pada indentation, dengan menggunakan whitespace untuk mendefinisikan scope seperti scope pada loop, fungsi dan kelas/class. Bahasa lain biasanya menggunakan curly-bracket untuk scope tersebut.\n",
    "\n",
    "Python dapat diinstall dengan beberapa cara:\n",
    "1. Install software Python secara langsung.\n",
    "Kita hanya perlu download softwarenya di https://www.python.org/downloads/ lalu instal dengan mengikuti seluruh arahan instalasi. \n",
    "Sesudah berhasil terinstal, kita dapat membuat kode program dengan menggunakan default Python IDE yang bernama IDLE. \n",
    "Juga dapat menggunakan layar command prompt (CMD) dengan mengetik 'python' sebelum membuat kode program. \n",
    "Kemudian bila kita memerlukan package atau library tertentu, kita dapat menambahkannya menggunakan PIP. PIP ini biasanya digunakan untuk menginstal Numpy, Scipy, OpenCV dan library lain yang diperlukan.\n",
    "Cara memastikan PIP sudah ada, coba ketik 'pip --version' pada command prompt. Seperti contoh di bawah.\n",
    "\n",
    "![image.png](attachment:image.png)\n",
    "\n",
    "2. Download Anaconda di https://www.anaconda.com/products/individual.\n",
    "Anaconda ini paket distribusi Python yang sudah lengkap dengan segala macam software lain yang diperlukan seperti Jupiter Notebook, Spyder, PyCharm dan lainnya. Walaupun sebetulnya Jupiter Notebook, Spyder, PyCharm ini juga bisa diinstal sendiri tanpa menggunakan Anaconda. \n",
    "Modul praktikum ini juga dibuat dengan memanfaatkan Jupiter Notebook pada Anaconda.\n",
    "\n",
    "3. Menggunakan Google Colab.\n",
    "Anda dapat menggunakan akun Google anda untuk dapat menggunakan Google Colab pada link: https://colab.research.google.com/\n",
    "Cara penggunaannya juga mirip dengan Jupiter Notebook. Bedanya Jupiter Notebook akan menggunakan resource di komputer anda dan bekerja secara offline. Namun Google Colab akan menggunakan resource dari Google dan bekerja secara online. \n",
    "Jadi apabila spesifikasi komputer anda agak kesulitan untuk menggunakan Jupiter Notebook, maka anda bisa menggunakan Google Colab namun harus terus terhubung ke internet.\n"
   ]
  },
  {
   "cell_type": "markdown",
   "id": "a0f50c5a",
   "metadata": {},
   "source": [
    "Berikut ini akan dijelaskan secara ringkas sintaks pada bahasa Python.\n",
    "\n",
    "#### Variables dan Data Type\n",
    "\n",
    "Variable digunakan untuk menyimpan data sehingga dapat digunakan lagi kemudian. Prinsip variable pada Python juga relatif sama dengan bahasa pemrograman lain. Variable pada Python dapat langsung menyimpan data tanpa perlu mendefinisikan tipe datanya. Tipe data dari variable akan bergantung pada data yang disimpan pada variable tersebut.\n",
    "\n",
    "Terdapat beberapa syarat saat membuat variable:\n",
    "- Nama Variable harus dimulai dengan huruf atau underscore.\n",
    "- Sesudah huruf pertama, maka nama variable boleh diikuti oleh huruf, angka dan underscore.\n",
    "- Nama variable bersifat case sensitive.\n",
    "- Tidak bisa menggunakan Python built-in names sebagai nama variable.\n"
   ]
  },
  {
   "cell_type": "code",
   "execution_count": 6,
   "id": "96adc76a",
   "metadata": {},
   "outputs": [
    {
     "name": "stdout",
     "output_type": "stream",
     "text": [
      "Laura 20 6.5\n",
      "<class 'str'>\n"
     ]
    }
   ],
   "source": [
    "name = 'Laura'\n",
    "age = 20\n",
    "height = 6.5\n",
    "benar = True\n",
    "print(name, age, height)\n",
    "print(type(name))\n"
   ]
  },
  {
   "cell_type": "markdown",
   "id": "4f41a1c9",
   "metadata": {},
   "source": [
    "Tipe data akan bergantung pada data yang tersimpan di dalam variable. Pada contoh di atas, **name** akan menyimpan data String sebab data di dalamnya dalam bentuk teks dengan single quote. Variable **age** akan menyimpan data integer. Variable **height** akan menyimpan bilangan desimal atau float.\n",
    "\n",
    "print digunakan untuk mencetak ke layar."
   ]
  },
  {
   "cell_type": "code",
   "execution_count": 7,
   "id": "8c2f7e37",
   "metadata": {},
   "outputs": [
    {
     "name": "stdout",
     "output_type": "stream",
     "text": [
      "Laura\n",
      "20\n",
      "6.5\n"
     ]
    }
   ],
   "source": [
    "name = 'Laura'\n",
    "age = 20\n",
    "height = 6.5\n",
    "print(name)\n",
    "print(age)\n",
    "print(height)\n",
    "#coba code ini juga. Apa beda dengan sebelumnya?"
   ]
  },
  {
   "cell_type": "code",
   "execution_count": 8,
   "id": "63aaf673",
   "metadata": {},
   "outputs": [
    {
     "name": "stdout",
     "output_type": "stream",
     "text": [
      "The name is Laura\n",
      "The age is 20\n",
      "The height is 6.5\n"
     ]
    }
   ],
   "source": [
    "name = 'Laura'\n",
    "age = 20\n",
    "height = 6.5\n",
    "print(\"The name is\", name)\n",
    "print(\"The age is\", age)\n",
    "print(\"The height is\", height)\n",
    "#menggabungkan kata-kata dengan variable saat dicetak"
   ]
  },
  {
   "cell_type": "code",
   "execution_count": 9,
   "id": "b5bedd07",
   "metadata": {},
   "outputs": [
    {
     "name": "stdout",
     "output_type": "stream",
     "text": [
      "My name is Laura. My age and height is 20, 6.500000\n"
     ]
    }
   ],
   "source": [
    "name = 'Laura'\n",
    "age = 20\n",
    "height = 6.5\n",
    "print(\"My name is %s. My age and height is %d, %f\" %(name, age,height))"
   ]
  },
  {
   "cell_type": "markdown",
   "id": "0e640a1f",
   "metadata": {},
   "source": [
    "#### Data Structures\n",
    "\n",
    "Apabila kita ingin menyimpan banyak data maka kita bisa memanfaatkan struktur data yang disediakan oleh Python yaitu:\n",
    "##### 1. List\n",
    "\n",
    "List digunakan untuk menyimpan banyak item data dalam satu variable. List dibuat dengan menggunakan *square bracket*. Item di dalam list diurutkan berdasarkan index yang bermula dari index 0. Item yang baru dimasukkan akan diletakkan pada index terakhir. List dapat berubah ukurannya dan membolehkan duplikasi data di dalamnya. \n",
    "Berikut contohnya."
   ]
  },
  {
   "cell_type": "code",
   "execution_count": 10,
   "id": "ab039f75",
   "metadata": {},
   "outputs": [
    {
     "name": "stdout",
     "output_type": "stream",
     "text": [
      "['apple', 'banana', 'cherry', 'apple', 'cherry']\n",
      "5\n",
      "['abc', 34, True, 40, 'male']\n",
      "<class 'list'>\n",
      "['apple', 'banana', 'cherry']\n"
     ]
    }
   ],
   "source": [
    "thislist = [\"apple\", \"banana\", \"cherry\", \"apple\", \"cherry\"]\n",
    "print(thislist)\n",
    "\n",
    "#untuk mengetahui panjang list, gunakan len()\n",
    "print(len(thislist))\n",
    "\n",
    "#list dapat digunakan untuk berbagai tipe data\n",
    "list1 = [\"apple\", \"banana\", \"cherry\"]\n",
    "list2 = [1, 5, 7, 9, 3]\n",
    "list3 = [True, False, False]\n",
    "#coba anda cetak list1, list2, list3 di atas\n",
    "\n",
    "#bahkan item di dalam list bisa bervariasi dari jenis tipe datanya\n",
    "list4 = [\"abc\", 34, True, 40, \"male\"]\n",
    "print(list4)\n",
    "\n",
    "#saat menggunakan list, sebenarnya kita membuat objek dari class list\n",
    "print(type(thislist))\n",
    "#buktinya hasil print di atas mencetak <class 'list'> yang menyatakan bahwa variable thislist merupakan objek class list\n",
    "#oleh karena itu dengan menggunakan kaedah object oriented, kita juga bisa membuat list dengan cara:\n",
    "mylist = list((\"apple\", \"banana\", \"cherry\")) # note the double round-brackets\n",
    "print(mylist)"
   ]
  },
  {
   "cell_type": "code",
   "execution_count": 11,
   "id": "95027084",
   "metadata": {},
   "outputs": [
    {
     "name": "stdout",
     "output_type": "stream",
     "text": [
      "banana\n",
      "mango\n",
      "melon\n",
      "['cherry', 'orange', 'kiwi']\n",
      "['apple', 'banana', 'cherry', 'orange']\n",
      "['cherry', 'orange', 'kiwi', 'melon', 'mango']\n"
     ]
    }
   ],
   "source": [
    "#item di dalam list diakses dengan menggunakan index yang bermula dari 0\n",
    "thislist = [\"apple\", \"banana\", \"cherry\", \"orange\", \"kiwi\", \"melon\", \"mango\"]\n",
    "print(thislist[1])\n",
    "\n",
    "#uniknya list pada Python bisa berupa negatif yang bermakna mengakses data dari akhir data list\n",
    "print(thislist[-1])\n",
    "print(thislist[-2])\n",
    "\n",
    "#bisa juga memilih rentang index (tanpa perlu pakai loop)\n",
    "print(thislist[2:5])    #dari index 2 hingga sebelum index 5\n",
    "\n",
    "#apabila tidak ada index awal, berarti bermula dari index 0\n",
    "print(thislist[:4])\n",
    "\n",
    "#apabila tidak ada index akhir, berarti akan berakhir hingga index terakhir\n",
    "print(thislist[2:])"
   ]
  },
  {
   "cell_type": "code",
   "execution_count": 12,
   "id": "19605946",
   "metadata": {},
   "outputs": [
    {
     "name": "stdout",
     "output_type": "stream",
     "text": [
      "['apple', 'blackcurrant', 'cherry', 'orange', 'kiwi', 'melon', 'mango']\n",
      "['apple', 'blackcurrant', 'watermelon', 'orange', 'kiwi', 'melon', 'mango']\n",
      "['apple', 'blackcurrant', 'banana', 'watermelon', 'orange', 'kiwi', 'melon', 'mango']\n",
      "['apple', 'blackcurrant', 'banana', 'watermelon', 'orange', 'kiwi', 'melon', 'mango', 'pineapple']\n",
      "['apple', 'blackcurrant', 'watermelon', 'orange', 'kiwi', 'melon', 'mango', 'pineapple']\n",
      "['apple', 'watermelon', 'orange', 'kiwi', 'melon', 'mango', 'pineapple']\n",
      "['apple', 'watermelon', 'orange', 'kiwi', 'melon', 'mango']\n",
      "['watermelon', 'orange', 'kiwi', 'melon', 'mango']\n",
      "[]\n"
     ]
    }
   ],
   "source": [
    "thislist = [\"apple\", \"banana\", \"cherry\", \"orange\", \"kiwi\", \"melon\", \"mango\"]\n",
    "#mengubah isi list, langsung dengan mengakses indexnya\n",
    "thislist[1] = \"blackcurrant\"\n",
    "print(thislist)\n",
    "\n",
    "#mengubah isi list bisa dalam range tertentu\n",
    "thislist[1:3] = [\"blackcurrant\", \"watermelon\"]\n",
    "print(thislist)\n",
    "\n",
    "#apabila kita ingin menambah, bukan mengubah konten, maka gunakan insert()\n",
    "thislist.insert(2, \"banana\")\n",
    "print(thislist)\n",
    "\n",
    "#apabila ingin memasukkan item data pada list yang terakhir, dapat gunakan append()\n",
    "thislist.append(\"pineapple\")\n",
    "print(thislist)\n",
    "\n",
    "#menghapus data dalam list dapat dengan remove()\n",
    "thislist.remove(\"banana\")\n",
    "print(thislist)\n",
    "\n",
    "#atau dapat menghapus pada index tertentu dengan pop()\n",
    "thislist.pop(1)\n",
    "print(thislist)\n",
    "\n",
    "#pop tanpa index akan menghapus item paling terakhir\n",
    "thislist.pop()\n",
    "print(thislist)\n",
    "\n",
    "#menghapus item data pada list juga bisa pakai del\n",
    "del thislist[0]\n",
    "print(thislist)\n",
    "#namun hati-hati menggunakan del, jika hanya \"del thislist\" saja maka objek thislist akan terhapus sama sekali\n",
    "\n",
    "#membersihkan list dapat menggunakan clear()\n",
    "thislist.clear()\n",
    "print(thislist)"
   ]
  },
  {
   "cell_type": "markdown",
   "id": "66df37b8",
   "metadata": {},
   "source": [
    "##### 2. Tuple\n",
    "\n",
    "Tuple digunakan untuk menyimpan data dengan bentuk yang mirip dengan list bermakna item data tersusun terurut berdasarkan index. Bedanya tuple bersifat immutable, bermakna apabila tuple sudah dibuat maka tuple tidak bisa diubah, ditambah dan dihapus itemnya.\n",
    "Berikut contohnya."
   ]
  },
  {
   "cell_type": "code",
   "execution_count": 13,
   "id": "d6b42de0",
   "metadata": {},
   "outputs": [
    {
     "name": "stdout",
     "output_type": "stream",
     "text": [
      "('apple', 'banana', 'cherry', 'apple', 'cherry')\n",
      "banana\n"
     ]
    }
   ],
   "source": [
    "thistuple = (\"apple\", \"banana\", \"cherry\", \"apple\", \"cherry\")\n",
    "print(thistuple)\n",
    "\n",
    "#akses item dalam tuple menggunakan index\n",
    "print(thistuple[1])\n",
    "\n",
    "#penggunaan lain dari index juga sama seperti list, jadi tidak dicontohkan lagi, namun silakan mencoba sendiri"
   ]
  },
  {
   "cell_type": "markdown",
   "id": "9a995948",
   "metadata": {},
   "source": [
    "##### 3. Dictionary\n",
    "\n",
    "Dictionary digunakan untuk menyimpan data berupa pasangan key dan value. Jadi bayangkan konsepnya mirip seperti kamus, di mana key sebagai kata lalu value sebagai makna kata.\n",
    "Dictionary menggunakan *curly bracket*. key dan value dipisahkan dengan colon atau titik dua.\n",
    "Berikut contohnya."
   ]
  },
  {
   "cell_type": "code",
   "execution_count": 14,
   "id": "db86d06e",
   "metadata": {},
   "outputs": [
    {
     "name": "stdout",
     "output_type": "stream",
     "text": [
      "{'brand': 'Ford', 'model': 'Mustang', 'year': 1964}\n",
      "Ford\n",
      "Mustang\n",
      "dict_keys(['brand', 'model', 'year'])\n",
      "{'brand': 'Ford', 'model': 'Mustang', 'year': 2018}\n",
      "{'brand': 'Ford', 'model': 'Mustang', 'year': 2020}\n",
      "{'brand': 'Ford', 'model': 'Mustang', 'year': 2020, 'color': 'red'}\n",
      "{'brand': 'Ford', 'model': 'Mustang', 'year': 2020, 'color': 'red', 'owner': 'Mr. Brown'}\n",
      "{'brand': 'Ford', 'year': 2020, 'color': 'red', 'owner': 'Mr. Brown'}\n",
      "{'brand': 'Ford', 'year': 2020, 'color': 'red'}\n",
      "{'brand': 'Ford', 'color': 'red'}\n",
      "{}\n"
     ]
    }
   ],
   "source": [
    "car = {\n",
    "\"brand\": \"Ford\",\n",
    "\"model\": \"Mustang\",\n",
    "\"year\": 1964\n",
    "}\n",
    "print(car)\n",
    "\n",
    "#mengakses value dengan menggunakan key\n",
    "print(car[\"brand\"])\n",
    "\n",
    "#mengakses value dapat juga menggunakan method get()\n",
    "print(car.get(\"model\"))\n",
    "\n",
    "#key juga dapat langsung diakses semua\n",
    "x = car.keys()\n",
    "print(x)\n",
    "\n",
    "#mengubah item data\n",
    "car[\"year\"] = 2018\n",
    "print(car)\n",
    "\n",
    "#selain itu item data juga dapat diubah dengan method update()\n",
    "car.update({\"year\": 2020})\n",
    "print(car)\n",
    "\n",
    "#menambah item data\n",
    "car[\"color\"] = \"red\"\n",
    "print(car)\n",
    "\n",
    "#selain itu item data juga dapat ditambah dengan method update()\n",
    "car.update({\"owner\": \"Mr. Brown\"})\n",
    "print(car)\n",
    "\n",
    "#menghapus item data dengan menggunakan pop()\n",
    "car.pop(\"model\")\n",
    "print(car)\n",
    "\n",
    "#item data paling terakhir dapat dihapus dengan popitem()\n",
    "car.popitem()\n",
    "print(car)\n",
    "\n",
    "#del juga dapat digunakan untuk menghapus\n",
    "del car[\"year\"]\n",
    "print(car)\n",
    "#namun hati-hati menggunakan del sebab dapat menghapus keseluruhan dictionary: del car\n",
    "\n",
    "#membersihkan item data dari dictionary dapat menggunakan clear()\n",
    "car.clear()\n",
    "print(car)"
   ]
  },
  {
   "cell_type": "markdown",
   "id": "1ec3ba05",
   "metadata": {},
   "source": [
    "##### 4. Set\n",
    "\n",
    "Set digunakan untuk menyimpan banyak item data di dalam satu variabel. Namun set bersifat unordered dan unindexed (tanpa index). Set ditulis di dalam *curly bracket*.\n",
    "Sifat unordered bermakna tidak ada urutan. Sehingga contohnya apabila dicetak maka hasil cetakan akan bervariasi.\n",
    "Seperti tuple, set juga immutable. Sehingga sesudah set dibuat maka kita tidak bisa mengubah item data di dalamnya. \n",
    "Selain itu set juga tidak membolehkan data yang duplikat. Sehingga apabila ada data yang duplikat maka tidak akan dianggap."
   ]
  },
  {
   "cell_type": "code",
   "execution_count": 15,
   "id": "c09d9b9f",
   "metadata": {},
   "outputs": [
    {
     "name": "stdout",
     "output_type": "stream",
     "text": [
      "{'banana', 'cherry', 'apple'}\n",
      "True\n",
      "{'banana', 'cherry', 'apple', 'orange'}\n",
      "{'banana', 'orange', 'papaya', 'cherry', 'apple', 'mango', 'pineapple'}\n",
      "{'orange', 'papaya', 'cherry', 'apple', 'mango', 'pineapple'}\n",
      "{'orange', 'papaya', 'apple', 'mango', 'pineapple'}\n"
     ]
    }
   ],
   "source": [
    "thisset = {\"apple\", \"banana\", \"cherry\", \"banana\"}\n",
    "print(thisset)\n",
    "\n",
    "#set tidak dapat diakses menggunakan index ataupun key. Namun bisa pakai pengujian seperti contoh di bawah\n",
    "print(\"banana\" in thisset)\n",
    "\n",
    "#item data pada set tidak bisa diubah namun kita bisa menambah data baru\n",
    "thisset.add(\"orange\")\n",
    "print(thisset)\n",
    "\n",
    "#set juga dapat ditambah dengan update()\n",
    "tropical = {\"pineapple\", \"mango\", \"papaya\"}\n",
    "thisset.update(tropical)\n",
    "print(thisset)\n",
    "\n",
    "#item data dapat dihapus dengan remove()\n",
    "thisset.remove(\"banana\")\n",
    "print(thisset)\n",
    "\n",
    "#item data dapat dihapus juga dengan discard()\n",
    "thisset.discard(\"cherry\")\n",
    "print(thisset)"
   ]
  },
  {
   "cell_type": "markdown",
   "id": "cb2de1a1",
   "metadata": {},
   "source": [
    "#### Conditional Statement (pengujian)\n",
    "\n",
    "Pengujian akan mengembalikan nilai binary atau boolean berdasarkan kondisi yang diberikan. Kondisi dapat menggunakan operator ==, !=, <, <=, >, >=. Jika hasil dari kondisi adalah true ataupun 1 maka blok sesudah pengujian akan dieksekusi, sebaliknya tidak akan dieksekusi.\n",
    "\n",
    "Pengujian dapat menggunakan beberapa bentuk berikut ini:\n",
    "- if\n",
    "- if-else\n",
    "- if-elif-else"
   ]
  },
  {
   "cell_type": "code",
   "execution_count": 16,
   "id": "203da426",
   "metadata": {},
   "outputs": [
    {
     "name": "stdout",
     "output_type": "stream",
     "text": [
      "b is greater than a\n"
     ]
    }
   ],
   "source": [
    "a = 33\n",
    "b = 200\n",
    "if b > a:\n",
    "  print(\"b is greater than a\")"
   ]
  },
  {
   "cell_type": "code",
   "execution_count": 19,
   "id": "1cc943f2",
   "metadata": {},
   "outputs": [
    {
     "ename": "IndentationError",
     "evalue": "expected an indented block (<ipython-input-19-5b42272017d2>, line 6)",
     "output_type": "error",
     "traceback": [
      "\u001b[1;36m  File \u001b[1;32m\"<ipython-input-19-5b42272017d2>\"\u001b[1;36m, line \u001b[1;32m6\u001b[0m\n\u001b[1;33m    print(\"b is greater than a\") # you will get an error\u001b[0m\n\u001b[1;37m    ^\u001b[0m\n\u001b[1;31mIndentationError\u001b[0m\u001b[1;31m:\u001b[0m expected an indented block\n"
     ]
    }
   ],
   "source": [
    "#Python sangat mementingkan indentation. Scope dari suatu blok menggunakan indentation. Kalau pada bahasa pemrograman lain menggunakan *curly bracket*.\n",
    "#Jadi statemen seperti berikut ini akan error.\n",
    "a = 33\n",
    "b = 200\n",
    "if b > a:\n",
    "print(\"b is greater than a\") # you will get an error"
   ]
  },
  {
   "cell_type": "code",
   "execution_count": 20,
   "id": "0c96dabd",
   "metadata": {},
   "outputs": [
    {
     "name": "stdout",
     "output_type": "stream",
     "text": [
      "You got C Grade\n"
     ]
    }
   ],
   "source": [
    "marks = 45\n",
    "if marks >= 80:\n",
    "    print(\"You got A Grade\")\n",
    "elif marks >=60 and marks <80:\n",
    "    print(\"You got B Grade\")\n",
    "else:\n",
    "    print(\"You got C Grade\")"
   ]
  },
  {
   "cell_type": "markdown",
   "id": "351695f0",
   "metadata": {},
   "source": [
    "#### Control Flow Statement (loop)\n",
    "\n",
    "Python memiliki 2 perintah loop:\n",
    "\n",
    "- while loop\n",
    "- for loop\n",
    "\n",
    "Loop yang menggunakan while akan dieksekusi selagi kondisi bernilai benar. \n",
    "Loop yang menggunakan for biasanya digunakan untuk mengiterasi suatu sequence (seperti list, tuple, dictionary, set, ataupun string). Jadi sifatnya lebih mirip seperti for-each."
   ]
  },
  {
   "cell_type": "code",
   "execution_count": 21,
   "id": "347c88cd",
   "metadata": {},
   "outputs": [
    {
     "name": "stdout",
     "output_type": "stream",
     "text": [
      "2\n",
      "4\n",
      "6\n",
      "8\n",
      "10\n",
      "apple\n",
      "banana\n",
      "cherry\n",
      "b\n",
      "a\n",
      "n\n",
      "a\n",
      "n\n",
      "a\n",
      "apple\n",
      "banana\n",
      "1\n",
      "2\n",
      "4\n",
      "5\n",
      "6\n"
     ]
    }
   ],
   "source": [
    "#Contoh penggunaan while\n",
    "count = 1\n",
    "while count<=5:\n",
    "    table = 2*count\n",
    "    count = count+1\n",
    "    print (table)\n",
    "    \n",
    "#Contoh penggunaan for\n",
    "fruits = [\"apple\", \"banana\", \"cherry\"]\n",
    "for x in fruits:\n",
    "    print(x)\n",
    "    \n",
    "for x in \"banana\":\n",
    "    print(x)\n",
    "\n",
    "#Python juga memiliki keyword break dan continue yang penggunaannya sama seperti pada bahasa pemrograman lainnya\n",
    "for x in fruits:\n",
    "    print(x)\n",
    "    if x == \"banana\":\n",
    "        break\n",
    "    \n",
    "i = 0\n",
    "while i < 6:\n",
    "    i += 1\n",
    "    if i == 3:\n",
    "        continue\n",
    "    print(i)"
   ]
  },
  {
   "cell_type": "markdown",
   "id": "5667e3b3",
   "metadata": {},
   "source": [
    "#### Function / fungsi\n",
    "\n",
    "Fungsi digunakan untuk membuat kode dalam satu wrapper sehingga fungsi tersebut nanti dapat dipergunakan berulang kali bila diperlukan. Fungsi dibuat dengan menggunakan kata kunci def.\n"
   ]
  },
  {
   "cell_type": "code",
   "execution_count": 22,
   "id": "f9743310",
   "metadata": {},
   "outputs": [
    {
     "name": "stdout",
     "output_type": "stream",
     "text": [
      "5\n",
      "10\n",
      "15\n",
      "20\n",
      "25\n",
      "30\n",
      "35\n",
      "40\n",
      "45\n",
      "50\n"
     ]
    }
   ],
   "source": [
    "#Misal kita ingin membuat fungsi tabel perkalian dari suatu nilai a sebanyak 10 item\n",
    "def tabel_kali (a):\n",
    "    for i in range(10):\n",
    "        tabel_kali = a*(i+1)\n",
    "        print(tabel_kali)\n",
    "\n",
    "tabel_kali(5)"
   ]
  },
  {
   "cell_type": "markdown",
   "id": "d54b0e2e",
   "metadata": {},
   "source": [
    "Sumber materi:\n",
    "- https://www.w3schools.com/python/python_intro.asp\n",
    "- Buku Practical Machine Learning and Image Processing: For Facial Recognition, Object Detection, and Pattern Recognition Using Python"
   ]
  },
  {
   "cell_type": "code",
   "execution_count": null,
   "id": "3656eb2d",
   "metadata": {},
   "outputs": [],
   "source": []
  },
  {
   "cell_type": "code",
   "execution_count": null,
   "id": "d9dcd3b4",
   "metadata": {},
   "outputs": [],
   "source": []
  },
  {
   "cell_type": "code",
   "execution_count": null,
   "id": "f879440c",
   "metadata": {},
   "outputs": [],
   "source": []
  }
 ],
 "metadata": {
  "kernelspec": {
   "display_name": "Python 3",
   "language": "python",
   "name": "python3"
  },
  "language_info": {
   "codemirror_mode": {
    "name": "ipython",
    "version": 3
   },
   "file_extension": ".py",
   "mimetype": "text/x-python",
   "name": "python",
   "nbconvert_exporter": "python",
   "pygments_lexer": "ipython3",
   "version": "3.8.11"
  }
 },
 "nbformat": 4,
 "nbformat_minor": 5
}
