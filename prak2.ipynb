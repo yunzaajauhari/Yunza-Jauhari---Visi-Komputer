{
 "cells": [
  {
   "cell_type": "markdown",
   "id": "f9e2bef3",
   "metadata": {},
   "source": [
    "# Praktikum Visi Komputer\n",
    "## Modul ke-2\n",
    "\n",
    "## Setting up library, OpenCV, Handling file\n",
    "\n",
    "Python memiliki banyak library yang dapat digunakan untuk berbagai keperluan. Untuk keperluan mata kuliah visi komputer ini kita memerlukan library numpy, scipy, dan opencv. \n",
    "- NumPy merupakan library pada bahasa Python yang menyediakan fitur operasi pada multi-dimensional array dan matriks, juga segala macam fungsi matematika yang dapat digunakan pada array tersebut. Untuk menginstallnya dapat menggunakan `pip install numpy`\n",
    "- SciPy merupakan library yang berguna untuk scientific computing dan technical computing. SciPy mengandung modul untuk optimisasi, aljabar linear, interpolasi, signal dan image processing, dan lain sebagainya. Untuk menginstallnya dapat menggunakan `pip install scipy`\n",
    "- OpenCV merupakan library yang bertujuan untuk real-time computer vision. Untuk menginstallnya dapat menggunakan `pip install opencv-python` atau `pip install opencv-contrib-python`\n",
    "\n",
    "Biasanya kalau menggunakan Anaconda, numpy dan scipy sudah terinstall. Namun untuk OpenCV perlu install menggunakan pip.\n",
    "Apabila anda sudah berhasil install library di atas, coba import berikut."
   ]
  },
  {
   "cell_type": "code",
   "execution_count": 2,
   "id": "fb271440",
   "metadata": {},
   "outputs": [],
   "source": [
    "#coba import library, jika tidak ada error berarti library sudah terinstall\n",
    "import numpy\n",
    "import scipy\n",
    "import cv2"
   ]
  },
  {
   "cell_type": "markdown",
   "id": "73b4b879",
   "metadata": {},
   "source": [
    "### Handling Files\n",
    "\n",
    "Aplikasi visi komputer (CV) biasanya memerlukan gambar sebagai input dan menghasilkan gambar juga sebagai output. Namun ada juga yang memerlukan kamera sebagai input dan window sebagai outputnya. Jadi input dapat berupa gambar, video dan raw byte.\n",
    "\n",
    "OpenCV menyediakan fungsi `imread` untuk membaca gambar dari file dan fungsi `imwrite` untuk menulis gambar ke file. Fungsi-fungsi ini bekerja pada gambar bukan video. Format yang didukung seperti BMP, PNG, JPEG, dan TIFF.\n",
    "\n",
    "Suatu gambar direpresentasikan dalam bentuk array multi-dimensi, yang memiliki pixel untuk kolom dan baris serta setiap piksel memiliki nilai. Nilai piksel jelas berbeda-beda untuk setiap gambar. Berikut contoh 3x3 piksel berwarna hitam dengan menggunakan 2D NumPy array:"
   ]
  },
  {
   "cell_type": "code",
   "execution_count": 4,
   "id": "7069f864",
   "metadata": {},
   "outputs": [
    {
     "data": {
      "text/plain": [
       "array([[0, 0, 0],\n",
       "       [0, 0, 0],\n",
       "       [0, 0, 0]], dtype=uint8)"
      ]
     },
     "execution_count": 4,
     "metadata": {},
     "output_type": "execute_result"
    }
   ],
   "source": [
    "img = numpy.zeros((3, 3), dtype=numpy.uint8)\n",
    "img"
   ]
  },
  {
   "cell_type": "markdown",
   "id": "7daaf7c3",
   "metadata": {},
   "source": [
    "Contoh 3x3 piksel di atas direpresentasikan sebagai integer 8-bit, maknanya bernilai dari rentang 0-255. 0 maknanya hitam, dan 255 maknanya putih, serta nilai di antaranya berupa gray. Jadi gambar ini adalah gambar grayscale.\n",
    "\n",
    "Kita coba konversi gambar tersebut menjadi format blue-green-red (BGR) menggunakan fungsi `cv2.cvtColor`."
   ]
  },
  {
   "cell_type": "code",
   "execution_count": 5,
   "id": "119b75c7",
   "metadata": {},
   "outputs": [
    {
     "data": {
      "text/plain": [
       "array([[[0, 0, 0],\n",
       "        [0, 0, 0],\n",
       "        [0, 0, 0]],\n",
       "\n",
       "       [[0, 0, 0],\n",
       "        [0, 0, 0],\n",
       "        [0, 0, 0]],\n",
       "\n",
       "       [[0, 0, 0],\n",
       "        [0, 0, 0],\n",
       "        [0, 0, 0]]], dtype=uint8)"
      ]
     },
     "execution_count": 5,
     "metadata": {},
     "output_type": "execute_result"
    }
   ],
   "source": [
    "img = cv2.cvtColor(img, cv2.COLOR_GRAY2BGR)\n",
    "img"
   ]
  },
  {
   "cell_type": "markdown",
   "id": "ee38da2c",
   "metadata": {},
   "source": [
    "Di sini dapat dilihat setiap piksel diwakilkan dalama array dengan 3-element, di mana setiap integer merepresentasikan satu dari tiga channel warna: B, G, R. Selain itu, gambar berwarna juga dapat direpresentasikan dalam format HSV (Hue Saturation Value).\n",
    "\n",
    "Kita dapat mengecek struktur dari gambar dengan menggunakan property `shape` yang akan mengembalikan baris, kolom dan jumlah channel (apabila ada)."
   ]
  },
  {
   "cell_type": "code",
   "execution_count": 6,
   "id": "86e02260",
   "metadata": {},
   "outputs": [
    {
     "name": "stdout",
     "output_type": "stream",
     "text": [
      "(5, 3)\n",
      "(5, 3, 3)\n"
     ]
    }
   ],
   "source": [
    "img = numpy.zeros((5, 3), dtype=numpy.uint8)\n",
    "print(img.shape)\n",
    "\n",
    "#apabila diubah jadi gambar berwarna\n",
    "img = cv2.cvtColor(img, cv2.COLOR_GRAY2BGR)\n",
    "print(img.shape)"
   ]
  },
  {
   "cell_type": "markdown",
   "id": "6667187e",
   "metadata": {},
   "source": [
    "Berikut ini kita akan membaca file gambar seperti di bawah. Download file tersebut dan simpan pada folder tempat anda menyimpan notebook ini.\n",
    "\n",
    "<img src=\"https://i.im.ge/2021/09/02/Q1Y9SM.jpg\" alt=\"CVS\" width=\"200\"/>"
   ]
  },
  {
   "cell_type": "code",
   "execution_count": 7,
   "id": "f7569f25",
   "metadata": {},
   "outputs": [],
   "source": [
    "#Contoh 1: membuka gambar dari file\n",
    "img = cv2.imread(\"gambar/gambar1.jpg\", cv2.IMREAD_COLOR)\n",
    "#print(img.shape)\n",
    "#print(img.dtype)\n",
    "cv2.imshow(\"Computer Vision Syndrome\", img)\n",
    "cv2.waitKey(0)\n",
    "cv2.destroyAllWindows()"
   ]
  },
  {
   "cell_type": "code",
   "execution_count": 8,
   "id": "171ae3eb",
   "metadata": {},
   "outputs": [],
   "source": [
    "#Latihan 1\n",
    "#ubah code Contoh 1 dengan menampilkan gambar foto anda sendiri\n",
    "img = cv2.imread(\"gambar/kapal.jpg\", cv2.IMREAD_COLOR)\n",
    "cv2.imshow(\"Kapal\", img)\n",
    "cv2.waitKey(0)\n",
    "cv2.destroyAllWindows()"
   ]
  },
  {
   "cell_type": "markdown",
   "id": "aed5fb88",
   "metadata": {},
   "source": [
    "Berikutnya kita coba tampilkan struktur dari gambar di atas dengan `shape`."
   ]
  },
  {
   "cell_type": "code",
   "execution_count": 11,
   "id": "fa24996b",
   "metadata": {},
   "outputs": [
    {
     "name": "stdout",
     "output_type": "stream",
     "text": [
      "<class 'numpy.ndarray'>\n",
      "(366, 650, 3)\n",
      "<class 'tuple'>\n",
      "height:  366\n",
      "width:   650\n",
      "channel: 3\n"
     ]
    }
   ],
   "source": [
    "# Tipe gambar. Di sini dapat dilihat bahwa gambar direpresentasikan dalam array multi-dimensi numpy\n",
    "print(type(img))\n",
    "# <class 'numpy.ndarray'>\n",
    "\n",
    "print(img.shape)\n",
    "print(type(img.shape))\n",
    "h, w, c = img.shape\n",
    "print('height: ', h)\n",
    "print('width:  ', w)\n",
    "print('channel:', c)"
   ]
  },
  {
   "cell_type": "markdown",
   "id": "82701e21",
   "metadata": {},
   "source": [
    "Kemudian kita coba ubah menjadi gambar grayscale."
   ]
  },
  {
   "cell_type": "code",
   "execution_count": 4,
   "id": "4bb1d0eb",
   "metadata": {},
   "outputs": [],
   "source": [
    "img_gray = cv2.imread(\"gambar/gambar1.jpg\", cv2.IMREAD_GRAYSCALE)\n",
    "cv2.imshow(\"Computer Vision Syndrome in grayish\", img_gray)\n",
    "cv2.waitKey(0)\n",
    "cv2.destroyAllWindows()"
   ]
  },
  {
   "cell_type": "code",
   "execution_count": 13,
   "id": "bd0e190c",
   "metadata": {},
   "outputs": [],
   "source": [
    "#Kita dapat mengubah gambar bewarna menjadi gray secara langsung\n",
    "gray = cv2.cvtColor(img, cv2.COLOR_BGR2GRAY)\n",
    "cv2.imshow(\"Computer Vision Syndrome in grayish\", gray)\n",
    "cv2.waitKey(0)\n",
    "cv2.destroyAllWindows()"
   ]
  },
  {
   "cell_type": "markdown",
   "id": "436f8bd1",
   "metadata": {},
   "source": [
    "Berikutnya kita coba tampilkan struktur dari gambar di atas dengan `shape` dan bandingkan hasilnya dengan gambar berwarna."
   ]
  },
  {
   "cell_type": "code",
   "execution_count": 14,
   "id": "7a85cb34",
   "metadata": {},
   "outputs": [
    {
     "name": "stdout",
     "output_type": "stream",
     "text": [
      "<class 'numpy.ndarray'>\n",
      "(366, 650, 3)\n",
      "<class 'tuple'>\n",
      "height:  396\n",
      "width:   480\n"
     ]
    }
   ],
   "source": [
    "# Tipe gambar. Di sini dapat dilihat bahwa gambar direpresentasikan dalam array multi-dimensi numpy\n",
    "print(type(img))\n",
    "# <class 'numpy.ndarray'>\n",
    "\n",
    "print(img.shape)\n",
    "print(type(img.shape))\n",
    "h, w = img_gray.shape\n",
    "print('height: ', h)\n",
    "print('width:  ', w)"
   ]
  },
  {
   "cell_type": "markdown",
   "id": "73f396c7",
   "metadata": {},
   "source": [
    "Kita dapat menyimpan gambar ke dalam file yang lain."
   ]
  },
  {
   "cell_type": "code",
   "execution_count": 15,
   "id": "1237f0db",
   "metadata": {},
   "outputs": [
    {
     "data": {
      "text/plain": [
       "True"
      ]
     },
     "execution_count": 15,
     "metadata": {},
     "output_type": "execute_result"
    }
   ],
   "source": [
    "cv2.imwrite('gambar/gambar1_gray.jpg', img_gray)"
   ]
  },
  {
   "cell_type": "markdown",
   "id": "1759c133",
   "metadata": {},
   "source": [
    "Sesudah code di atas dijalankan, cek folder tempat anda menyimpan gambar. Maka sudah muncul tambahan gambar grayscale dari gambar asli tadi.\n",
    "\n",
    "Kita juga dapat mengubah format gambar."
   ]
  },
  {
   "cell_type": "code",
   "execution_count": 16,
   "id": "f4601f0f",
   "metadata": {},
   "outputs": [
    {
     "data": {
      "text/plain": [
       "True"
      ]
     },
     "execution_count": 16,
     "metadata": {},
     "output_type": "execute_result"
    }
   ],
   "source": [
    "img = cv2.imread('gambar/gambar1.jpg')\n",
    "cv2.imwrite('gambar/gambar1.png', img)"
   ]
  },
  {
   "cell_type": "markdown",
   "id": "917c52e2",
   "metadata": {},
   "source": [
    "Cek kembali folder tempat anda menyimpan gambar. Sekarang ada tambahan gambar yang sama dengan format PNG."
   ]
  },
  {
   "cell_type": "markdown",
   "id": "865363ff",
   "metadata": {},
   "source": [
    "Fungsi `imread` memiliki beberapa pilihan property seperti:\n",
    "- cv2.IMREAD_COLOR: pilihan default untuk BGR 3-channel dengan setiap piksel bernilai 8-bit (0-255) untuk setiap channel.\n",
    "- cv2.IMREAD_GRAYSCALE: 8-bit gambar grayscale.\n",
    "- cv2.IMREAD_ANYCOLOR: 8-bit-per-channel gambar atau 8-bit gambar grayscale, tergantung file metadata.\n",
    "- cv2.IMREAD_UNCHANGED: membaca semua data image termasuk channel alpha transparency channel (jika ada) sebagai channel ke-4.\n",
    "- cv2.IMREAD_ANYDEPTH\n",
    "- cv2.IMREAD_ANYDEPTH | cv2.IMREAD_COLOR\n",
    "- cv2.IMREAD_REDUCED_GRAYSCALE_2: resolusi jadi setengahnya. \n",
    "- cv2.IMREAD_REDUCED_COLOR_2: resolusi jadi setengahnya.\n",
    "- cv2.IMREAD_REDUCED_GRAYSCALE_4: resolusi jadi seperempatnya.\n",
    "- cv2.IMREAD_REDUCED_COLOR_4: resolusi jadi seperempatnya.\n",
    "- cv2.IMREAD_REDUCED_GRAYSCALE_8: resolusi jadi seperdelapannya.\n",
    "- cv2.IMREAD_REDUCED_COLOR_8: resolusi jadi seperdelapannya."
   ]
  },
  {
   "cell_type": "markdown",
   "id": "fdd370d0",
   "metadata": {},
   "source": [
    "### Konversi antara gambar dan raw bytes\n",
    "\n",
    "Secara konsep, satu byte adalah integer dalam rentang 0-255. Biasanya satu piksel diwakilkan sebagai satu byte per channel. \n",
    "Image pada OpenCV berupa array 2D atau 3D bertipe numpy.array. Image 8-bit grayscale berupa array 2D yang mengandung nilai bytenya. Image 24-bit BGR berupa array 3D yang mengandung nilai bytenya. \n",
    "\n",
    "Kita dapat mengakses nilai byte dengan ekspresi seperti image[0, 0] atau image[0, 0, 0]. Index pertama adalah koordinat y atau baris, dengan nilai 0 bermakna yang paling atas. Index kedua adalah koordinat x atau kolom, dengan nilai 0 bermakna yang paling kiri. Sedangkan index ketiga (pada 3D) merepresentasikan channel warna. \n",
    "\n",
    "Array 3D dapat divisualisasikan pada sistem koordinat seperti gambar berikut.\n",
    "\n",
    "<img src=\"https://i.im.ge/2021/09/02/Q1bO8C.png\" alt=\"Sistem koordinat\" style=\"width:200px;\"/>\n"
   ]
  },
  {
   "cell_type": "code",
   "execution_count": 17,
   "id": "351811ec",
   "metadata": {},
   "outputs": [
    {
     "data": {
      "text/plain": [
       "True"
      ]
     },
     "execution_count": 17,
     "metadata": {},
     "output_type": "execute_result"
    }
   ],
   "source": [
    "import cv2\n",
    "import numpy\n",
    "import os\n",
    "\n",
    "# Make an array of 120,000 random bytes.\n",
    "randomByteArray = bytearray(os.urandom(120000))\n",
    "flatNumpyArray = numpy.array(randomByteArray)\n",
    "\n",
    "# Convert the array to make a 400x300 grayscale image.\n",
    "grayImage = flatNumpyArray.reshape(300, 400)\n",
    "cv2.imwrite('gambar/RandomGray.png', grayImage)\n",
    "\n",
    "# Convert the array to make a 400x100 color image.\n",
    "bgrImage = flatNumpyArray.reshape(100, 400, 3)\n",
    "cv2.imwrite('gambar/RandomColor.png', bgrImage)"
   ]
  },
  {
   "cell_type": "markdown",
   "id": "c948b941",
   "metadata": {},
   "source": [
    "Contoh di atas melakukan konversi dari bytearray yang mengandung random bytes menjadi image grayscale dan image BGR. Pada contoh tersebut, digunakan fungsi os.urandom untuk menghasilkan random\n",
    "raw bytes, yang berikutnya diubah jadi NumPy array. Namun sebenarnya ada cara yang lebih efisien membuat NumPy array acak dengan cara `numpy.random.randint(0, 256, 120000).reshape(300, 400)`. Namun di sini os.urandom digunakan untuk mendemonstrasikan proses konversi dari raw bytes.\n",
    "Setelah code di atas dijalankan, maka kita akan mendapatkan 2 gambar RandomGray.png dan RandomColor.png."
   ]
  },
  {
   "cell_type": "markdown",
   "id": "84c27d72",
   "metadata": {},
   "source": [
    "### Membaca data gambar menggunakan numpy.array\n",
    "\n",
    "Berdasarkan contoh-contoh di atas, cara mudah untuk membaca suatu image di OpenCV dengan menggunakan fungsi `imread` yang akan mengembalikan image dalam bentuk array (2D atau 3D). \n",
    "\n",
    "Class numpy.array telah dioptimisasi untuk berbagai macam operasi array yang tidak tersedia pada list Python yang biasa (plain tanpa NumPy). Class numpy.array ini sangat berguna untuk manipulasi image pada OpenCV. Kita akan coba melakukan manipulasi image pada contoh-contoh berikut ini.\n",
    "\n",
    "Pertama kita mencoba ubah piksel pada koordinat (0, 0) pada gambar BGR dan mengubahnya menjadi piksel berwarna putih."
   ]
  },
  {
   "cell_type": "code",
   "execution_count": 18,
   "id": "8e0ff5ba",
   "metadata": {},
   "outputs": [
    {
     "data": {
      "text/plain": [
       "True"
      ]
     },
     "execution_count": 18,
     "metadata": {},
     "output_type": "execute_result"
    }
   ],
   "source": [
    "img = cv2.imread('gambar/gambar1.jpg')\n",
    "img[0, 0] = [255, 255, 255]\n",
    "cv2.imwrite('gambar/gambar1-1.jpg', img)"
   ]
  },
  {
   "cell_type": "markdown",
   "id": "2e82d355",
   "metadata": {},
   "source": [
    "Kita juga dapat menggunakan fungsi itemset untuk mengubah piksel pada channel tertentu ke suatu nilai yang baru. Dan fungsi item yang akan mengembalikan nilai piksel pada channel tertentu.\n",
    "Fungsi item dan itemset memerlukan koordinat x, y dan channel B (0), G (1) atau R (2)."
   ]
  },
  {
   "cell_type": "code",
   "execution_count": 19,
   "id": "d00e9f98",
   "metadata": {},
   "outputs": [
    {
     "name": "stdout",
     "output_type": "stream",
     "text": [
      "56\n",
      "255\n"
     ]
    }
   ],
   "source": [
    "#sebelum diubah\n",
    "print(img.item(150, 120, 0)) \n",
    "\n",
    "#sesudah diubah\n",
    "img.itemset((150, 120, 0), 255) # Sets the value of a pixel's blue channel\n",
    "print(img.item(150, 120, 0)) # Prints the value of a pixel's blue channel"
   ]
  },
  {
   "cell_type": "markdown",
   "id": "52dbdaf8",
   "metadata": {},
   "source": [
    "Namun manipulasi per piksel seperti di atas menjadi tidak efisien apabila data yang ingin dimanipulasi adalah bagian yang besar atau keseluruhan dari gambar. Pada kasus ini, kita sebaiknya memanfaatkan fungsi-fungsi pada OpenCV atau array slicing pada NumPy. \n",
    "\n",
    "Contoh berikut ini menggunakan array slicing untuk memanipulasi channel warna. Di sini kita mengubah nilai G (hijau) pada suatu gambar menjadi 0. "
   ]
  },
  {
   "cell_type": "code",
   "execution_count": 20,
   "id": "213da2d9",
   "metadata": {},
   "outputs": [
    {
     "name": "stdout",
     "output_type": "stream",
     "text": [
      "[[[ 69  79 227]\n",
      "  [ 69  79 227]\n",
      "  [ 70  80 227]\n",
      "  ...\n",
      "  [ 71  81 228]\n",
      "  [ 70  80 228]\n",
      "  [ 69  79 227]]\n",
      "\n",
      " [[ 69  79 227]\n",
      "  [ 69  79 227]\n",
      "  [ 70  80 227]\n",
      "  ...\n",
      "  [ 70  80 227]\n",
      "  [ 70  80 228]\n",
      "  [ 70  80 228]]\n",
      "\n",
      " [[ 71  81 229]\n",
      "  [ 70  80 228]\n",
      "  [ 70  80 227]\n",
      "  ...\n",
      "  [ 69  79 226]\n",
      "  [ 69  79 227]\n",
      "  [ 70  80 228]]\n",
      "\n",
      " ...\n",
      "\n",
      " [[182 211 172]\n",
      "  [171 200 161]\n",
      "  [169 198 159]\n",
      "  ...\n",
      "  [170 199 160]\n",
      "  [170 199 160]\n",
      "  [170 199 160]]\n",
      "\n",
      " [[182 211 172]\n",
      "  [171 200 161]\n",
      "  [169 198 159]\n",
      "  ...\n",
      "  [170 199 160]\n",
      "  [170 199 160]\n",
      "  [170 199 160]]\n",
      "\n",
      " [[182 211 172]\n",
      "  [171 200 161]\n",
      "  [169 198 159]\n",
      "  ...\n",
      "  [170 199 160]\n",
      "  [170 199 160]\n",
      "  [170 199 160]]]\n",
      "[[[ 69   0 227]\n",
      "  [ 69   0 227]\n",
      "  [ 70   0 227]\n",
      "  ...\n",
      "  [ 71   0 228]\n",
      "  [ 70   0 228]\n",
      "  [ 69   0 227]]\n",
      "\n",
      " [[ 69   0 227]\n",
      "  [ 69   0 227]\n",
      "  [ 70   0 227]\n",
      "  ...\n",
      "  [ 70   0 227]\n",
      "  [ 70   0 228]\n",
      "  [ 70   0 228]]\n",
      "\n",
      " [[ 71   0 229]\n",
      "  [ 70   0 228]\n",
      "  [ 70   0 227]\n",
      "  ...\n",
      "  [ 69   0 226]\n",
      "  [ 69   0 227]\n",
      "  [ 70   0 228]]\n",
      "\n",
      " ...\n",
      "\n",
      " [[182   0 172]\n",
      "  [171   0 161]\n",
      "  [169   0 159]\n",
      "  ...\n",
      "  [170   0 160]\n",
      "  [170   0 160]\n",
      "  [170   0 160]]\n",
      "\n",
      " [[182   0 172]\n",
      "  [171   0 161]\n",
      "  [169   0 159]\n",
      "  ...\n",
      "  [170   0 160]\n",
      "  [170   0 160]\n",
      "  [170   0 160]]\n",
      "\n",
      " [[182   0 172]\n",
      "  [171   0 161]\n",
      "  [169   0 159]\n",
      "  ...\n",
      "  [170   0 160]\n",
      "  [170   0 160]\n",
      "  [170   0 160]]]\n"
     ]
    },
    {
     "data": {
      "text/plain": [
       "True"
      ]
     },
     "execution_count": 20,
     "metadata": {},
     "output_type": "execute_result"
    }
   ],
   "source": [
    "#Contoh 2\n",
    "img = cv2.imread('gambar/gambar1.jpg')\n",
    "#sebelum berubah\n",
    "print(img)\n",
    "\n",
    "#array slice\n",
    "img[:, :, 1] = 0\n",
    "#sesudah berubah\n",
    "print(img)\n",
    "cv2.imwrite('gambar/gambar1-2.jpg', img)"
   ]
  },
  {
   "cell_type": "code",
   "execution_count": 21,
   "id": "410f8c43",
   "metadata": {},
   "outputs": [
    {
     "name": "stdout",
     "output_type": "stream",
     "text": [
      "[[[178 178 166]\n",
      "  [177 177 165]\n",
      "  [177 177 165]\n",
      "  ...\n",
      "  [153 150 136]\n",
      "  [153 150 136]\n",
      "  [153 150 136]]\n",
      "\n",
      " [[178 178 166]\n",
      "  [178 178 166]\n",
      "  [178 178 166]\n",
      "  ...\n",
      "  [153 150 136]\n",
      "  [153 150 136]\n",
      "  [153 150 136]]\n",
      "\n",
      " [[179 179 167]\n",
      "  [178 178 166]\n",
      "  [179 179 167]\n",
      "  ...\n",
      "  [153 150 136]\n",
      "  [155 152 138]\n",
      "  [155 152 138]]\n",
      "\n",
      " ...\n",
      "\n",
      " [[174 138 102]\n",
      "  [180 144 108]\n",
      "  [174 138 102]\n",
      "  ...\n",
      "  [163 125  93]\n",
      "  [141 103  71]\n",
      "  [142 104  72]]\n",
      "\n",
      " [[172 136 100]\n",
      "  [183 147 111]\n",
      "  [179 143 107]\n",
      "  ...\n",
      "  [150 112  80]\n",
      "  [154 116  84]\n",
      "  [154 116  84]]\n",
      "\n",
      " [[170 134  98]\n",
      "  [185 149 113]\n",
      "  [190 154 118]\n",
      "  ...\n",
      "  [128  90  58]\n",
      "  [131  93  61]\n",
      "  [131  93  61]]]\n",
      "[[[178   0 166]\n",
      "  [177   0 165]\n",
      "  [177   0 165]\n",
      "  ...\n",
      "  [153   0 136]\n",
      "  [153   0 136]\n",
      "  [153   0 136]]\n",
      "\n",
      " [[178   0 166]\n",
      "  [178   0 166]\n",
      "  [178   0 166]\n",
      "  ...\n",
      "  [153   0 136]\n",
      "  [153   0 136]\n",
      "  [153   0 136]]\n",
      "\n",
      " [[179   0 167]\n",
      "  [178   0 166]\n",
      "  [179   0 167]\n",
      "  ...\n",
      "  [153   0 136]\n",
      "  [155   0 138]\n",
      "  [155   0 138]]\n",
      "\n",
      " ...\n",
      "\n",
      " [[174   0 102]\n",
      "  [180   0 108]\n",
      "  [174   0 102]\n",
      "  ...\n",
      "  [163   0  93]\n",
      "  [141   0  71]\n",
      "  [142   0  72]]\n",
      "\n",
      " [[172   0 100]\n",
      "  [183   0 111]\n",
      "  [179   0 107]\n",
      "  ...\n",
      "  [150   0  80]\n",
      "  [154   0  84]\n",
      "  [154   0  84]]\n",
      "\n",
      " [[170   0  98]\n",
      "  [185   0 113]\n",
      "  [190   0 118]\n",
      "  ...\n",
      "  [128   0  58]\n",
      "  [131   0  61]\n",
      "  [131   0  61]]]\n"
     ]
    },
    {
     "data": {
      "text/plain": [
       "True"
      ]
     },
     "execution_count": 21,
     "metadata": {},
     "output_type": "execute_result"
    }
   ],
   "source": [
    "#Latihan 2\n",
    "#ubah code Contoh 2 dengan menampilkan gambar anda sendiri lalu ubah nilai B menjadi 0\n",
    "#jawaban disimpan pada file gambar yang berbeda lalu tampilkan\n",
    "\n",
    "\n",
    "#ubah code Contoh 2 dengan menampilkan gambar anda sendiri lalu ubah nilai G menjadi 0\n",
    "#jawaban disimpan pada file gambar yang berbeda lalu tampilkan\n",
    "\n",
    "\n",
    "#ubah code Contoh 2 dengan menampilkan gambar anda sendiri lalu ubah nilai R menjadi 0\n",
    "#jawaban disimpan pada file gambar yang berbeda lalu tampilkan\n",
    "\n",
    "\n",
    "#Contoh 2\n",
    "img = cv2.imread('gambar/kapal.jpg')\n",
    "#sebelum berubah\n",
    "print(img)\n",
    "\n",
    "#array slice\n",
    "img[:, :, 1] = 0\n",
    "#sesudah berubah\n",
    "print(img)\n",
    "cv2.imwrite('gambar/kapal-2.jpg', img)"
   ]
  },
  {
   "cell_type": "markdown",
   "id": "4d460c4b",
   "metadata": {},
   "source": [
    "Pada contoh 2, gambar diubah secara keseluruhan. Namun kita juga dapat mendefinisikan regions of interests (ROI). Sesudah ROI dibuat, kita dapat melakukan berbagai operasi seperti menyimpan ROI tersebut ke dalam variabel, membuat region baru, dan menyimpan region pertama ke region kedua (dengan kata lain meng-copy sebagian image). Namun pastikan ukurannya sesuai, jika berlebih maka akan error."
   ]
  },
  {
   "cell_type": "code",
   "execution_count": 22,
   "id": "d8ee8ba6",
   "metadata": {},
   "outputs": [
    {
     "data": {
      "text/plain": [
       "True"
      ]
     },
     "execution_count": 22,
     "metadata": {},
     "output_type": "execute_result"
    }
   ],
   "source": [
    "img = cv2.imread('gambar/gambar1.jpg')\n",
    "my_roi = img[0:100, 0:100]\n",
    "img[100:200, 100:200] = my_roi\n",
    "cv2.imwrite('gambar/gambar1-3.jpg', img)"
   ]
  },
  {
   "cell_type": "markdown",
   "id": "2241f872",
   "metadata": {},
   "source": [
    "Kita dapat mendapatkan informasi property dari numpy.array seperti:\n",
    "- shape: ini berupa tuple yang menjelaskan shape dari array. Untuk image, akan mengandung height, width, banyaknya channel (pada image berwarna). Panjang dari shape berguna untuk menentukan apakah image grayscale atau berwarna. Untuk image grayscale, len(shape) == 2, sedangkan image berwarna, len(shape) == 3. \n",
    "- size: ini merupakan jumlah elemen pada array. Pada image grayscale, jumlahnya sama dengan jumlah piksel. Namun pada image BGR, jumlahnya 3 kali lipat dari jumlah piksel sebab setiap piksel direpresentasikan oleh 3 elemen (B, G, R).\n",
    "- dtype: ini merupakan tipe data dari unsur array. Untuk image 8-bit-per-channel, tipe datanya numpy.uint8."
   ]
  },
  {
   "cell_type": "code",
   "execution_count": 23,
   "id": "ba31b5ec",
   "metadata": {},
   "outputs": [
    {
     "name": "stdout",
     "output_type": "stream",
     "text": [
      "(396, 480, 3)\n",
      "570240\n",
      "uint8\n",
      "(396, 480)\n",
      "190080\n",
      "uint8\n"
     ]
    }
   ],
   "source": [
    "img = cv2.imread('gambar/gambar1.jpg')\n",
    "print(img.shape)\n",
    "print(img.size)\n",
    "print(img.dtype)\n",
    "\n",
    "img = cv2.imread('gambar/gambar1_gray.jpg', cv2.IMREAD_GRAYSCALE)\n",
    "print(img.shape)\n",
    "print(img.size)\n",
    "print(img.dtype)"
   ]
  },
  {
   "cell_type": "markdown",
   "id": "96d351bc",
   "metadata": {},
   "source": [
    "### Membaca dan menulis file video \n",
    "\n",
    "OpenCV menyediakan class VideoCapture dan VideoWriter yang mendukung berbagai macam format file video. Format yang didukung bergantung pada sistem operasi dan konfigurasi dari OpenCV. Pada objek VideoCapture kita gunakan method read untuk membaca frame hingga akhir dari file video. Setiap frame merupakan image dengan format BGR.\n",
    "\n",
    "Sebaliknya image yang dikirim ke method write pada class VideoWriter akan meng-append (sambung) image menjadi file video. \n",
    "\n",
    "Beberapa pilihan codec yang bisa digunakan:\n",
    "- 0: uncompressed raw video file dengan ekstensi .avi.\n",
    "- cv2.VideoWriter_fourcc('I','4','2','0'): uncompressed YUV encoding, 4:2:0 chroma subsampled. Hasilnya file yang besar dengan ekstensi .avi.\n",
    "- cv2.VideoWriter_fourcc('P','I','M','1'): MPEG-1 dengan ekstensi .avi.\n",
    "- cv2.VideoWriter_fourcc('X','V','I','D'): MPEG-4 encoding yang lama namun file hasilnya kecil dengan ekstensi .avi.\n",
    "- cv2.VideoWriter_fourcc('M','P','4','V'): MPEG-4 encoding yang lama dengan ekstensi .mpp.\n",
    "- cv2.VideoWriter_fourcc('X','2','6','4'): MPEG-4 encoding yang baru dengan ukuran relatif kecil dan ekstensi .mp4.\n",
    "- cv2.VideoWriter_fourcc('T','H','E','O'): Ogg Vorbis dengan ekstensi .ogv.\n",
    "- cv2.VideoWriter_fourcc('F','L','V','1'): Flash video dengan ekstensi .flv.\n",
    "\n",
    "Berikut adalah contoh pembacaan frame pada file MP4 dan menulisnya ke file lain dengan encoding X264 formatnya mp4.\n"
   ]
  },
  {
   "cell_type": "code",
   "execution_count": 15,
   "id": "81cecf78",
   "metadata": {},
   "outputs": [],
   "source": [
    "#Membaca file video, kemudian dapatkan fps dan size\n",
    "videoCapture = cv2.VideoCapture('gambar/traffic-short.mp4')\n",
    "fps = videoCapture.get(cv2.CAP_PROP_FPS)\n",
    "size = (int(videoCapture.get(cv2.CAP_PROP_FRAME_WIDTH)),\n",
    "    int(videoCapture.get(cv2.CAP_PROP_FRAME_HEIGHT)))\n",
    "\n",
    "#Buka videowriter utk file output dengan pilihan encoding\n",
    "videoWriter = cv2.VideoWriter(\n",
    "    'gambar/traffic-short-out.mp4', cv2.VideoWriter_fourcc('X','2','6','4'), fps, size)\n",
    "\n",
    "#Mulai membaca dan menulis file video\n",
    "success, frame = videoCapture.read()\n",
    "while success: # Loop until there are no more frames.\n",
    "    videoWriter.write(frame)\n",
    "    success, frame = videoCapture.read()"
   ]
  },
  {
   "cell_type": "code",
   "execution_count": 13,
   "id": "9a31db6a",
   "metadata": {},
   "outputs": [],
   "source": [
    "#Berikut contoh jika input berasal dari camera. Di sini akan diambil dari camera laptop/komputer\n",
    "cameraCapture = cv2.VideoCapture(0)\n",
    "fps = 30 # An assumption\n",
    "size = (int(cameraCapture.get(cv2.CAP_PROP_FRAME_WIDTH)),\n",
    "\n",
    "int(cameraCapture.get(cv2.CAP_PROP_FRAME_HEIGHT)))\n",
    "videoWriter = cv2.VideoWriter(\n",
    "    'gambar/MyOutputVid.avi', cv2.VideoWriter_fourcc('I','4','2','0'), fps, size)\n",
    "\n",
    "success, frame = cameraCapture.read()\n",
    "numFramesRemaining = 10 * fps - 1 # 10 seconds of frames\n",
    "while success and numFramesRemaining > 0:\n",
    "    videoWriter.write(frame)\n",
    "    success, frame = cameraCapture.read()\n",
    "    numFramesRemaining -= 1"
   ]
  },
  {
   "cell_type": "code",
   "execution_count": 14,
   "id": "10c30d3e",
   "metadata": {},
   "outputs": [
    {
     "name": "stdout",
     "output_type": "stream",
     "text": [
      "Showing camera feed. Click window or press any key to stop.\n"
     ]
    }
   ],
   "source": [
    "#Berikut ini code untuk menampilkan tangkapan dari camera laptop/komputer pada suatu window\n",
    "clicked = False\n",
    "def onMouse(event, x, y, flags, param):\n",
    "    global clicked\n",
    "    if event == cv2.EVENT_LBUTTONUP:\n",
    "        clicked = True\n",
    "\n",
    "cameraCapture = cv2.VideoCapture(0)\n",
    "cv2.namedWindow('MyWindow')\n",
    "cv2.setMouseCallback('MyWindow', onMouse)\n",
    "\n",
    "print('Showing camera feed. Click window or press any key to stop.')\n",
    "success, frame = cameraCapture.read()\n",
    "while success and cv2.waitKey(1) == -1 and not clicked:\n",
    "    cv2.imshow('MyWindow', frame)\n",
    "    success, frame = cameraCapture.read()\n",
    "cv2.destroyWindow('MyWindow')\n",
    "cameraCapture.release()"
   ]
  },
  {
   "cell_type": "markdown",
   "id": "d55db404",
   "metadata": {},
   "source": [
    "### Menampilkan banyak gambar dalam satu tampilan\n",
    "\n",
    "Selain dari menggunakan window, kita dapat memanfaatkan library matplotlib untuk memudahkan dalam menampilkan gambar.\n",
    "\n",
    "[![Q2o6yG.th.png](https://i.im.ge/2021/09/02/Q2o6yG.th.png)](https://im.ge/i/Q2o6yG)\n",
    "[![Q2ot1a.th.png](https://i.im.ge/2021/09/02/Q2ot1a.th.png)](https://im.ge/i/Q2ot1a)\n",
    "[![Q2oymJ.th.png](https://i.im.ge/2021/09/02/Q2oymJ.th.png)](https://im.ge/i/Q2oymJ)\n",
    "[![Q2oAZy.th.png](https://i.im.ge/2021/09/02/Q2oAZy.th.png)](https://im.ge/i/Q2oAZy)"
   ]
  },
  {
   "cell_type": "code",
   "execution_count": 12,
   "id": "1a1a94c1",
   "metadata": {},
   "outputs": [
    {
     "data": {
      "text/plain": [
       "Text(0.5, 1.0, 'Fourth')"
      ]
     },
     "execution_count": 12,
     "metadata": {},
     "output_type": "execute_result"
    }
   ],
   "source": [
    "#import libraries\n",
    "import cv2\n",
    "from matplotlib import pyplot as plt\n",
    "\n",
    "# create figure\n",
    "fig = plt.figure(figsize=(10, 7))\n",
    "\n",
    "# setting values to rows and column variables\n",
    "rows = 2\n",
    "columns = 2\n",
    "\n",
    "# reading images\n",
    "Image1 = cv2.imread('gambar/Image1.jpg')\n",
    "Image2 = cv2.imread('gambar/Image2.jpg')\n",
    "Image3 = cv2.imread('gambar/Image3.jpg')\n",
    "Image4 = cv2.imread('gambar/Image4.jpg')\n",
    "\n",
    "# Adds a subplot at the 1st position\n",
    "fig.add_subplot(rows, columns, 1)\n",
    "\n",
    "# showing image\n",
    "plt.imshow(Image1)\n",
    "plt.axis('on')\n",
    "plt.title(\"First\")\n",
    "\n",
    "# Adds a subplot at the 2nd position\n",
    "fig.add_subplot(rows, columns, 2)\n",
    "\n",
    "# showing image\n",
    "plt.imshow(Image2)\n",
    "plt.axis('on')\n",
    "plt.title(\"Second\")\n",
    "\n",
    "# Adds a subplot at the 3rd position\n",
    "fig.add_subplot(rows, columns, 3)\n",
    "\n",
    "# showing image\n",
    "plt.imshow(cv2.cvtColor(Image3, cv2.COLOR_BGR2RGB))\n",
    "plt.axis('off')\n",
    "plt.title(\"Third\")\n",
    "\n",
    "# Adds a subplot at the 4th position\n",
    "fig.add_subplot(rows, columns, 4)\n",
    "\n",
    "# showing image\n",
    "plt.imshow(Image4)\n",
    "plt.axis('off')\n",
    "plt.title(\"Fourth\")\n"
   ]
  },
  {
   "cell_type": "markdown",
   "id": "c393352e",
   "metadata": {},
   "source": [
    "Video untuk latihan 3 dan 4 : \n",
    "https://bit.ly/3zEv9i4"
   ]
  },
  {
   "cell_type": "code",
   "execution_count": 4,
   "id": "e49e1c24",
   "metadata": {},
   "outputs": [],
   "source": [
    "#Latihan 3\n",
    "#Tampilkan 5 frame pertama dari video di atas, langkahnya:\n",
    "#buka stream video \n",
    "#look 5 kali utk membaca 5 frame pertama dan simpan ke image \n",
    "#tampilkan gambar 5 frame tersebut \n",
    "\n",
    "video = cv2.VideoCapture('gambar/traffic-short.mp4')\n",
    "j=1\n",
    "while(video.isOpened()):\n",
    "    ret, frame = video.read()\n",
    "    if j > 5 :\n",
    "        break\n",
    "    cv2.imwrite('gambar/' + str(j) + '.jpg', frame)\n",
    "    img = cv2.imread(\"gambar/\" + str(j) + \".jpg\", cv2.IMREAD_COLOR)\n",
    "    cv2.imshow(\"Foto \" + str(j), img)\n",
    "    cv2.waitKey(0)\n",
    "    cv2.destroyAllWindows()\n",
    "    j+=1\n",
    "    \n",
    "video.release()\n"
   ]
  },
  {
   "cell_type": "code",
   "execution_count": 5,
   "id": "7dd16698",
   "metadata": {},
   "outputs": [],
   "source": [
    "#Latihan 4\n",
    "#Ambil 2 frame pertama dari video di atas simpan ke dalam 2 file gambar\n",
    "#kemudian cari perbedaannya dengan fungsi np.subtract\n",
    "#file bedanya ditulis ke dalam file yang baru\n",
    "#tampilkan 2 file gambar dan file gambar perbedaannya\n",
    "\n",
    "gambar1 = cv2.imread('gambar/1.jpg')\n",
    "gambar2 = cv2.imread('gambar/2.jpg')\n",
    "result = numpy.subtract(gambar1, gambar2) \n",
    "cv2.imwrite('gambar/Latihan-4.jpg', result)\n",
    "\n",
    "i=1 \n",
    "while(i<3) :\n",
    "    img = cv2.imread(\"gambar/\" + str(i) + \".jpg\", cv2.IMREAD_COLOR)\n",
    "    cv2.imshow(\"Foto \" + str(i), img)\n",
    "    cv2.waitKey(0)\n",
    "    cv2.destroyAllWindows()\n",
    "    i+=1\n",
    "    \n",
    "\n",
    "cv2.imshow(\"Latihan-4\", cv2.imread(\"gambar/Latihan-4.jpg\", cv2.IMREAD_COLOR))\n",
    "cv2.waitKey(0)\n",
    "cv2.destroyAllWindows()\n",
    "\n"
   ]
  },
  {
   "cell_type": "code",
   "execution_count": 7,
   "id": "29c55886",
   "metadata": {},
   "outputs": [
    {
     "name": "stdout",
     "output_type": "stream",
     "text": [
      "Showing camera feed. Click window or press any key to stop.\n"
     ]
    }
   ],
   "source": [
    "#Latihan 5\n",
    "#Tangkap gambar dari webcam (camera di laptop/komputer)\n",
    "#Ambil 2 frame pertama dari video di atas simpan ke dalam 2 file gambar\n",
    "#kemudian cari perbedaannya dengan fungsi np.subtract\n",
    "#file bedanya ditulis ke dalam file yang baru\n",
    "#tampilkan 2 file gambar dan file gambar perbedaannya\n",
    "\n",
    "cameraCapture = cv2.VideoCapture(0)\n",
    "fps = 30 # An assumption\n",
    "size = (int(cameraCapture.get(cv2.CAP_PROP_FRAME_WIDTH)),\n",
    "\n",
    "int(cameraCapture.get(cv2.CAP_PROP_FRAME_HEIGHT)))\n",
    "videoWriter = cv2.VideoWriter(\n",
    "    'gambar/Latihan-5.avi', cv2.VideoWriter_fourcc('I','4','2','0'), fps, size)\n",
    "\n",
    "success, frame = cameraCapture.read()\n",
    "numFramesRemaining = 10 * fps - 1 # 10 seconds of frames\n",
    "while success and numFramesRemaining > 0:\n",
    "    videoWriter.write(frame)\n",
    "    success, frame = cameraCapture.read()\n",
    "    numFramesRemaining -= 1\n",
    "\n",
    "#Berikut ini code untuk menampilkan tangkapan dari camera laptop/komputer pada suatu window\n",
    "clicked = False\n",
    "def onMouse(event, x, y, flags, param):\n",
    "    global clicked\n",
    "    if event == cv2.EVENT_LBUTTONUP:\n",
    "        clicked = True\n",
    "\n",
    "cameraCapture = cv2.VideoCapture(0)\n",
    "cv2.namedWindow('MyWindow')\n",
    "cv2.setMouseCallback('MyWindow', onMouse)\n",
    "\n",
    "print('Showing camera feed. Click window or press any key to stop.')\n",
    "success, frame = cameraCapture.read()\n",
    "while success and cv2.waitKey(1) == -1 and not clicked:\n",
    "    cv2.imshow('MyWindow', frame)\n",
    "    success, frame = cameraCapture.read()\n",
    "cv2.destroyWindow('MyWindow')\n",
    "cameraCapture.release()\n",
    "\n",
    "video = cv2.VideoCapture('gambar/Latihan-5.avi')\n",
    "i=1\n",
    "while(video.isOpened()):\n",
    "    ret, frame = video.read()\n",
    "    if i > 3 :\n",
    "        break\n",
    "    cv2.imwrite('gambar/Latihan5-' + str(i) + '.jpg', frame)\n",
    "    i+=1\n",
    "    \n",
    "video.release()\n",
    "\n",
    "gambar1 = cv2.imread('gambar/Latihan5-1.jpg')\n",
    "gambar2 = cv2.imread('gambar/Latihan5-2.jpg')\n",
    "result = numpy.subtract(gambar1, ga  mbar2) \n",
    "\n",
    "cv2.imwrite('gambar/Latihan5-final.jpg', result)\n",
    "\n",
    "i=1 \n",
    "while(i<3) :\n",
    "    img = cv2.imread(\"gambar/Latihan5-\" + str(i) + \".jpg\", cv2.IMREAD_COLOR)\n",
    "    cv2.imshow(\"Foto \" + str(i), img)\n",
    "    cv2.waitKey(0)\n",
    "    cv2.destroyAllWindows()\n",
    "    i+=1\n",
    "    \n",
    "\n",
    "cv2.imshow(\"Latihan-5\", cv2.imread(\"gambar/Latihan5-final.jpg\", cv2.IMREAD_COLOR))\n",
    "cv2.waitKey(0)\n",
    "cv2.destroyAllWindows()"
   ]
  },
  {
   "cell_type": "code",
   "execution_count": null,
   "id": "e4d7678a",
   "metadata": {},
   "outputs": [],
   "source": []
  }
 ],
 "metadata": {
  "kernelspec": {
   "display_name": "Python 3",
   "language": "python",
   "name": "python3"
  },
  "language_info": {
   "codemirror_mode": {
    "name": "ipython",
    "version": 3
   },
   "file_extension": ".py",
   "mimetype": "text/x-python",
   "name": "python",
   "nbconvert_exporter": "python",
   "pygments_lexer": "ipython3",
   "version": "3.8.11"
  }
 },
 "nbformat": 4,
 "nbformat_minor": 5
}
