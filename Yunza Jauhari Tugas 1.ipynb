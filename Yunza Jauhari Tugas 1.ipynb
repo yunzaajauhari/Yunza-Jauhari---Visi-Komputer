{
 "cells": [
  {
   "cell_type": "code",
   "execution_count": 18,
   "id": "c6a8ffbf",
   "metadata": {},
   "outputs": [
    {
     "name": "stdout",
     "output_type": "stream",
     "text": [
      "image1 size:  (139, 284, 3)\n"
     ]
    },
    {
     "data": {
      "image/png": "[encoded data removed]",
      "text/plain": [
       "<Figure size 432x288 with 1 Axes>"
      ]
     },
     "metadata": {
      "needs_background": "light"
     },
     "output_type": "display_data"
    }
   ],
   "source": [
    "import cv2\n",
    "import numpy as np\n",
    "import matplotlib.pyplot as plt\n",
    "%matplotlib inline\n",
    "\n",
    "face_cascade=cv2.CascadeClassifier(cv2.data.haarcascades+\"haarcascade_frontalface_default.xml\")\n",
    "\n",
    "flower=cv2.imread(\"flower.png\")      #download flower picture from the repository\n",
    "\n",
    "flower=flower[1:140,:]\n",
    "plt.imshow(cv2.cvtColor(flower,2))\n",
    "\n",
    "print(\"image1 size: \", flower.shape)\n",
    "\n",
    "zero=np.zeros((flower.shape[0],flower.shape[1],3),dtype=\"uint8\")\n",
    "flower_thresh=flower.copy()\n",
    "for i in range(flower.shape[0]):\n",
    "    for j in range(flower.shape[1]):\n",
    "        if(flower[i][j][0]<10 and flower[i][j][1]<10 and flower[i][j][2]<10):\n",
    "            ;\n",
    "        else:\n",
    "            flower_thresh[i][j]=[255,255,255]\n",
    "flower_thresh_not=cv2.bitwise_not(flower_thresh)\n",
    "plt.imshow(cv2.cvtColor(flower_thresh_not,2))\n",
    "\n",
    "cap=cv2.VideoCapture(0)\n",
    "while(True):\n",
    "    a,img=cap.read()\n",
    "    gray=cv2.cvtColor(img,1)\n",
    "    faces=face_cascade.detectMultiScale(gray,3,10)\n",
    "    for (x,y,w,h) in faces:\n",
    "        img=cv2.rectangle(img,(x,y),(x+w,y+h),(0,0,255),2)\n",
    "        if(y>199):\n",
    "            roi=img[y-flower.shape[0]:y,x:x+flower.shape[1]]\n",
    "            flower_or=cv2.bitwise_and(roi,flower_thresh_not)\n",
    "            flower_and=cv2.add(flower_or,flower)\n",
    "            img[y-flower.shape[0]:y,x:x+flower.shape[1]]=flower_and\n",
    "    cv2.imshow(\"Pink Flower Crown\",img)\n",
    "    if(cv2.waitKey(1)&0xff==27):\n",
    "        break\n",
    "cap.release()\n",
    "cv2.destroyAllWindows()"
   ]
  },
  {
   "cell_type": "code",
   "execution_count": null,
   "id": "953caad2",
   "metadata": {},
   "outputs": [],
   "source": []
  }
 ],
 "metadata": {
  "kernelspec": {
   "display_name": "Python 3",
   "language": "python",
   "name": "python3"
  },
  "language_info": {
   "codemirror_mode": {
    "name": "ipython",
    "version": 3
   },
   "file_extension": ".py",
   "mimetype": "text/x-python",
   "name": "python",
   "nbconvert_exporter": "python",
   "pygments_lexer": "ipython3",
   "version": "3.8.11"
  }
 },
 "nbformat": 4,
 "nbformat_minor": 5
}
