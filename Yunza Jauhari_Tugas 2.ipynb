{
 "cells": [
  {
   "cell_type": "code",
   "execution_count": 67,
   "id": "f86b2adc",
   "metadata": {},
   "outputs": [],
   "source": [
    "import os\n",
    "import numpy as np\n",
    "import cv2\n",
    "\n",
    "def create_descriptors(folder):\n",
    "    feature_detector = cv2.xfeatures2d.SIFT_create()\n",
    "    files = []\n",
    "    for (dirpath, dirnames, filenames) in os.walk(folder):\n",
    "        files.extend(filenames)\n",
    "    for f in files:\n",
    "        create_descriptor(folder, f, feature_detector)\n",
    "\n",
    "def create_descriptor (folder, image_path, feature_detector):\n",
    "    if not image_path.endswith('jpg'):\n",
    "        return\n",
    "    print('reading %s' % image_path)\n",
    "    img = cv2.imread(os.path.join(folder, image_path), cv2.IMREAD_GRAYSCALE)\n",
    "    keypoints, descriptors = feature_detector.detectAndCompute(img, None)\n",
    "    descriptor_file = image_path.replace('jpg','npy')\n",
    "    np.save (os.path.join(folder, descriptor_file), descriptors)\n"
   ]
  },
  {
   "cell_type": "code",
   "execution_count": 68,
   "id": "949f27e8",
   "metadata": {},
   "outputs": [
    {
     "name": "stdout",
     "output_type": "stream",
     "text": [
      "reading tato01.jpg\n",
      "reading tato02.jpg\n",
      "reading tato03.jpg\n",
      "reading tato04.jpg\n",
      "reading tato05.jpg\n",
      "reading tato06.jpg\n",
      "reading tato07.jpg\n",
      "reading tato08.jpg\n",
      "reading tato09.jpg\n",
      "reading tato10.jpg\n",
      "reading tato11.jpg\n",
      "reading tato12.jpg\n",
      "reading tato13.jpg\n",
      "reading tato15.jpg\n",
      "reading tato16.jpg\n",
      "reading tato17.jpg\n",
      "reading tato18.jpg\n",
      "reading tato19.jpg\n",
      "reading tato20.jpg\n",
      "reading tato21.jpg\n"
     ]
    }
   ],
   "source": [
    "# Link download dataset tato\n",
    "# https://drive.google.com/drive/u/0/folders/1cz7JhxYcJVKSgbVV5lR0CvkSILCexmqj\n",
    "\n",
    "folder = 'dataset'\n",
    "create_descriptors(folder)"
   ]
  },
  {
   "cell_type": "code",
   "execution_count": 69,
   "id": "d9bc9ace",
   "metadata": {},
   "outputs": [],
   "source": [
    "import os\n",
    "import numpy as np\n",
    "import cv2\n",
    "\n",
    "folder = 'dataset'\n",
    "query = cv2.imread(os.path.join(folder, 'tato01.jpg'), cv2.IMREAD_GRAYSCALE)\n",
    "\n",
    "files = []\n",
    "images = []\n",
    "descriptors = []\n",
    "for (dirpath, dirnames, filenames) in os.walk(folder):\n",
    "    files.extend(filenames)\n",
    "    for f in files:\n",
    "        if f.endswith('npy') and f != 'tato01.npy':\n",
    "            descriptors.append(f)\n",
    "\n"
   ]
  },
  {
   "cell_type": "code",
   "execution_count": 70,
   "id": "07c18753",
   "metadata": {},
   "outputs": [
    {
     "name": "stdout",
     "output_type": "stream",
     "text": [
      "pendeteksian tato pada dataset\n",
      "\n",
      "\n",
      "TATO02 terdeteksi mirip (160 matches)\n",
      "\n",
      "\n",
      "TATO03 terdeteksi mirip (164 matches)\n",
      "\n",
      "\n",
      "TATO04 terdeteksi mirip (168 matches)\n",
      "\n",
      "\n",
      "TATO05 terdeteksi mirip (172 matches)\n",
      "\n",
      "\n",
      "TATO06 terdeteksi mirip (176 matches)\n",
      "\n",
      "\n",
      "TATO07 terdeteksi mirip (180 matches)\n",
      "\n",
      "\n",
      "TATO08 terdeteksi mirip (184 matches)\n",
      "\n",
      "\n",
      "TATO09 terdeteksi mirip (188 matches)\n",
      "\n",
      "\n",
      "TATO10 terdeteksi mirip (192 matches)\n",
      "\n",
      "\n",
      "TATO11 terdeteksi mirip (196 matches)\n",
      "\n",
      "\n",
      "TATO12 terdeteksi mirip (200 matches)\n",
      "\n",
      "\n",
      "TATO13 terdeteksi mirip (204 matches)\n",
      "\n",
      "\n",
      "TATO15 terdeteksi mirip (208 matches)\n",
      "\n",
      "\n",
      "TATO16 terdeteksi mirip (212 matches)\n",
      "\n",
      "\n",
      "TATO17 terdeteksi mirip (216 matches)\n",
      "\n",
      "\n",
      "TATO18 terdeteksi mirip (220 matches)\n",
      "\n",
      "\n",
      "TATO19 terdeteksi mirip (224 matches)\n",
      "\n",
      "\n",
      "TATO20 terdeteksi mirip (228 matches)\n",
      "\n",
      "\n",
      "TATO21 terdeteksi mirip (232 matches)\n",
      "\n",
      "\n"
     ]
    }
   ],
   "source": [
    "# create the sift detector\n",
    "sift = cv2.xfeatures2d.SIFT_create()\n",
    "\n",
    "query_kp, query_ds = sift.detectAndCompute(query, None)\n",
    "# create FLANN matcher\n",
    "FLANN_INDEX_KDTREE = 1\n",
    "\n",
    "index_params = dict(algorithm = FLANN_INDEX_KDTREE, trees = 5)\n",
    "search_params = dict(checks = 50)\n",
    "\n",
    "flann = cv2.FlannBasedMatcher(index_params, search_params)\n",
    "\n",
    "# minimum number of matches\n",
    "MIN_MATCH_COUNT = 10\n",
    "\n",
    "greatest_num_good_matches = 0\n",
    "prime_suspect = None\n",
    "\n",
    "print ('pendeteksian tato pada dataset')\n",
    "print(\"\\n\")\n",
    "for d in descriptors:\n",
    "    \n",
    "    for m,n in matches:\n",
    "        if m.distance < 0.7*n.distance:\n",
    "            good_matches.append(m)\n",
    "            \n",
    "    num_good_matches = len(good_matches)\n",
    "    name = d.replace('.npy', '').upper()\n",
    "    \n",
    "    if num_good_matches >= MIN_MATCH_COUNT:\n",
    "        print('%s terdeteksi mirip (%d matches)' % \\\n",
    "              (name, num_good_matches))\n",
    "        if num_good_matches > greatest_num_good_matches:\n",
    "            greatest_num_good_matches = num_good_matches\n",
    "            prime_suspect = name \n",
    "        print(\"\\n\")\n",
    "    else:\n",
    "       \n",
    "        print ('%s tidak terdeteksi mirip. (% d matches)' % \\\n",
    "                (name, num_good_matches))\n",
    "        print(\"\\n\")"
   ]
  },
  {
   "cell_type": "code",
   "execution_count": 71,
   "id": "cc88c95e",
   "metadata": {},
   "outputs": [
    {
     "name": "stdout",
     "output_type": "stream",
     "text": [
      "Tatto yang mirip adalah TATO21\n"
     ]
    }
   ],
   "source": [
    "if prime_suspect is not None:\n",
    "    print('Tatto yang mirip adalah %s' % prime_suspect)\n",
    "else:\n",
    "    print('Tidak ada tatto yang match')"
   ]
  },
  {
   "cell_type": "code",
   "execution_count": null,
   "id": "0d11fab4",
   "metadata": {},
   "outputs": [],
   "source": []
  }
 ],
 "metadata": {
  "kernelspec": {
   "display_name": "Python 3",
   "language": "python",
   "name": "python3"
  },
  "language_info": {
   "codemirror_mode": {
    "name": "ipython",
    "version": 3
   },
   "file_extension": ".py",
   "mimetype": "text/x-python",
   "name": "python",
   "nbconvert_exporter": "python",
   "pygments_lexer": "ipython3",
   "version": "3.8.11"
  }
 },
 "nbformat": 4,
 "nbformat_minor": 5
}
